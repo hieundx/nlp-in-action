{
 "cells": [
  {
   "cell_type": "markdown",
   "metadata": {},
   "source": [
    "Keyword-based matching."
   ]
  },
  {
   "cell_type": "code",
   "execution_count": null,
   "metadata": {},
   "outputs": [],
   "source": [
    "# Keyword-based greeting recognizer\n",
    "greetings = \"Hi Hello Greets Hey Howdy\".split()\n",
    "user_statement = input(\"Enter your statement: \")\n",
    "user_tokens = user_statement.split()\n",
    "if any(greeting in user_tokens for greeting in greetings):\n",
    "    bot_reply = 'Thermonuclear war is a strange game.'\n",
    "    bot_reply += ' The only winning move is not to play.'\n",
    "else:\n",
    "    bot_reply = 'Would you like a cup of tea?'\n",
    "    \n",
    "print(bot_reply)"
   ]
  },
  {
   "cell_type": "markdown",
   "metadata": {},
   "source": [
    "Pattern-based matching"
   ]
  },
  {
   "cell_type": "code",
   "execution_count": null,
   "metadata": {},
   "outputs": [],
   "source": [
    "import re\n",
    "\n",
    "# Fuzzy regex that matches mispellings of \"hello\", \"hey\", \"hi\", \"howdy\", \"greetings\"\n",
    "r = re.compile(r'(?i)^(h[aei]+(y|llo)?|h[aeou]w?d+y|gre+t?s?)', re.IGNORECASE)\n",
    "\n",
    "user_statement = input(\"Enter your statement: \")\n",
    "user_tokens = user_statement.split()\n",
    "if any(r.match(token) for token in user_tokens):\n",
    "    bot_reply = 'Thermonuclear war is a strange game.'\n",
    "    bot_reply += ' The only winning move is not to play.'\n",
    "else:\n",
    "    bot_reply = 'Would you like a cup of tea?'\n",
    "    \n",
    "print(bot_reply)"
   ]
  }
 ],
 "metadata": {
  "language_info": {
   "name": "python"
  }
 },
 "nbformat": 4,
 "nbformat_minor": 2
}
