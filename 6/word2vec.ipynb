{
 "cells": [
  {
   "cell_type": "code",
   "execution_count": 2,
   "metadata": {},
   "outputs": [],
   "source": [
    "from nltk.corpus import stopwords\n",
    "from nltk.tokenize import word_tokenize\n",
    "from gensim.models import Word2Vec"
   ]
  },
  {
   "cell_type": "code",
   "execution_count": null,
   "metadata": {},
   "outputs": [],
   "source": [
    "from gensim.corpora import WikiCorpus\n",
    "import os\n",
    "\n",
    "# Step 1: Download the Wikipedia dump\n",
    "wiki_dump_url = \"https://dumps.wikimedia.org/enwiki/latest/enwiki-latest-pages-articles.xml.bz2\"\n",
    "filename = \"enwiki-latest-pages-articles.xml.bz2\"\n",
    "\n",
    "# Step 2: Extract and process the Wikipedia dump\n",
    "output_fname = \"wiki_texts.txt\"\n",
    "\n",
    "def process_wiki(inp, outp):\n",
    "    \"\"\"Convert Wikipedia xml dump file to text corpus\"\"\"\n",
    "    wiki = WikiCorpus(inp, dictionary={})\n",
    "    with open(outp, 'w', encoding='utf-8') as output:\n",
    "        for text in wiki.get_texts():\n",
    "            output.write(' '.join(text) + '\\n')\n",
    "    print('Processing complete!')\n",
    "\n",
    "# Check if the output file already exists\n",
    "if not os.path.exists(output_fname):\n",
    "    print(\"Extracting and processing Wikipedia dump...\")\n",
    "    process_wiki(filename, output_fname)\n",
    "else:\n",
    "    print(f\"{output_fname} already exists. Skipping processing.\")\n",
    "\n",
    "print(f\"Corpus is ready in {output_fname}\")\n",
    "\n",
    "# Step 3: Prepare the corpus for Word2Vec (similar to previous example)\n",
    "from nltk.tokenize import word_tokenize\n",
    "from nltk.corpus import stopwords\n",
    "import nltk\n",
    "\n",
    "nltk.download('punkt')\n",
    "nltk.download('stopwords')\n",
    "\n",
    "stop_words = set(stopwords.words('english'))\n",
    "\n",
    "def preprocess(sentence):\n",
    "    tokens = word_tokenize(sentence.lower())\n",
    "    tokens = [token for token in tokens if token.isalpha() and token not in stop_words]\n",
    "    return tokens\n",
    "\n",
    "# This function will process the corpus in chunks to handle large files\n",
    "def process_corpus(input_file, chunk_size=1000):\n",
    "    with open(input_file, 'r', encoding='utf-8') as f:\n",
    "        while True:\n",
    "            lines = f.readlines(chunk_size)\n",
    "            if not lines:\n",
    "                break\n",
    "            yield [preprocess(line) for line in lines]\n"
   ]
  },
  {
   "cell_type": "code",
   "execution_count": null,
   "metadata": {},
   "outputs": [],
   "source": [
    "preprocessed_corpus = process_corpus(output_fname)\n",
    "model = Word2Vec(vector_size=100, window=5, min_count=5, workers=4)\n",
    "model.build_vocab(preprocessed_corpus)\n",
    "model.train(preprocessed_corpus, total_examples=model.corpus_count, epochs=5)"
   ]
  },
  {
   "cell_type": "code",
   "execution_count": null,
   "metadata": {},
   "outputs": [],
   "source": [
    "model.wv.most_similar('king', topn=5)"
   ]
  }
 ],
 "metadata": {
  "kernelspec": {
   "display_name": "nlpia",
   "language": "python",
   "name": "python3"
  },
  "language_info": {
   "codemirror_mode": {
    "name": "ipython",
    "version": 3
   },
   "file_extension": ".py",
   "mimetype": "text/x-python",
   "name": "python",
   "nbconvert_exporter": "python",
   "pygments_lexer": "ipython3",
   "version": "3.9.19"
  }
 },
 "nbformat": 4,
 "nbformat_minor": 2
}
