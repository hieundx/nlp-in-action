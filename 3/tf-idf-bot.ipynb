{
 "cells": [
  {
   "cell_type": "code",
   "execution_count": 1,
   "metadata": {},
   "outputs": [
    {
     "data": {
      "text/html": [
       "<div>\n",
       "<style scoped>\n",
       "    .dataframe tbody tr th:only-of-type {\n",
       "        vertical-align: middle;\n",
       "    }\n",
       "\n",
       "    .dataframe tbody tr th {\n",
       "        vertical-align: top;\n",
       "    }\n",
       "\n",
       "    .dataframe thead th {\n",
       "        text-align: right;\n",
       "    }\n",
       "</style>\n",
       "<table border=\"1\" class=\"dataframe\">\n",
       "  <thead>\n",
       "    <tr style=\"text-align: right;\">\n",
       "      <th></th>\n",
       "      <th>question</th>\n",
       "      <th>answer</th>\n",
       "    </tr>\n",
       "  </thead>\n",
       "  <tbody>\n",
       "    <tr>\n",
       "      <th>0</th>\n",
       "      <td>How to detect outliers in a data set and how t...</td>\n",
       "      <td>Like other pipeline design challenges, I do ou...</td>\n",
       "    </tr>\n",
       "    <tr>\n",
       "      <th>1</th>\n",
       "      <td>What is a static model or distribution?</td>\n",
       "      <td>A probability distribution or model whose unde...</td>\n",
       "    </tr>\n",
       "  </tbody>\n",
       "</table>\n",
       "</div>"
      ],
      "text/plain": [
       "                                           question   \\\n",
       "0  How to detect outliers in a data set and how t...   \n",
       "1            What is a static model or distribution?   \n",
       "\n",
       "                                              answer  \n",
       "0  Like other pipeline design challenges, I do ou...  \n",
       "1  A probability distribution or model whose unde...  "
      ]
     },
     "execution_count": 1,
     "metadata": {},
     "output_type": "execute_result"
    }
   ],
   "source": [
    "url = 'https://gitlab.com/tangibleai/community/qary-cli/-/raw/main/src/qary/data/faq/faq-python-data-science-cleaned.csv?ref_type=heads'\n",
    "\n",
    "import pandas as pd\n",
    "\n",
    "qa_dataset = pd.read_csv(url)\n",
    "qa_dataset.head()"
   ]
  },
  {
   "cell_type": "code",
   "execution_count": 4,
   "metadata": {},
   "outputs": [],
   "source": [
    "from sklearn.feature_extraction.text import TfidfVectorizer\n",
    "\n",
    "vectorizer = TfidfVectorizer()\n",
    "vectorizer.fit(qa_dataset['question '])\n",
    "\n",
    "vectors = vectorizer.transform(qa_dataset['question ']).todense()"
   ]
  },
  {
   "cell_type": "code",
   "execution_count": 12,
   "metadata": {},
   "outputs": [],
   "source": [
    "def bot_reply(question):\n",
    "    question_vec = vectorizer.transform([question]).todense()\n",
    "    similarity = (vectors @ question_vec.T)\n",
    "    most_similar = similarity.argmax()\n",
    "    \n",
    "    print(f\"Question: {question}\")\n",
    "    print(f'Most similar question: {qa_dataset[\"question \"][most_similar]}')\n",
    "    print(f\"Answer: {qa_dataset['answer'][most_similar]}\")"
   ]
  },
  {
   "cell_type": "code",
   "execution_count": 14,
   "metadata": {},
   "outputs": [
    {
     "name": "stdout",
     "output_type": "stream",
     "text": [
      "Question: What is a static distribution?\n",
      "Most similar question: What is a static model or distribution?\n",
      "Answer: A probability distribution or model whose underlying statistics or behavior do not change over time.\n"
     ]
    }
   ],
   "source": [
    "bot_reply(\"What is a static distribution?\")"
   ]
  },
  {
   "cell_type": "code",
   "execution_count": 15,
   "metadata": {},
   "outputs": [
    {
     "name": "stdout",
     "output_type": "stream",
     "text": [
      "Question: Guidelines to handle outliers\n",
      "Most similar question: How to detect outliers in a data set and how to handle them?\n",
      "Answer: Like other pipeline design challenges, I do outlier filtering in an agile way. Can you guess what that is? Spoiler alert... Outliers can be discarded automatically during hyperparameter tuning, or even within the model itself (random forest or xg-boost)\n"
     ]
    }
   ],
   "source": [
    "bot_reply('Guidelines to handle outliers')"
   ]
  }
 ],
 "metadata": {
  "kernelspec": {
   "display_name": "nlpia",
   "language": "python",
   "name": "python3"
  },
  "language_info": {
   "codemirror_mode": {
    "name": "ipython",
    "version": 3
   },
   "file_extension": ".py",
   "mimetype": "text/x-python",
   "name": "python",
   "nbconvert_exporter": "python",
   "pygments_lexer": "ipython3",
   "version": "3.9.19"
  }
 },
 "nbformat": 4,
 "nbformat_minor": 2
}
