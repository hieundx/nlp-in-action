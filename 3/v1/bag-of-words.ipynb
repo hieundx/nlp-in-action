{
 "cells": [
  {
   "cell_type": "markdown",
   "metadata": {},
   "source": [
    "# Normalized term frequency"
   ]
  },
  {
   "cell_type": "code",
   "execution_count": 13,
   "metadata": {},
   "outputs": [
    {
     "name": "stdout",
     "output_type": "stream",
     "text": [
      "(18,)\n"
     ]
    },
    {
     "data": {
      "text/plain": [
       ",       5\n",
       "and     2\n",
       "It      1\n",
       "has     1\n",
       "also    1\n",
       "dtype: int64"
      ]
     },
     "execution_count": 13,
     "metadata": {},
     "output_type": "execute_result"
    }
   ],
   "source": [
    "import spacy\n",
    "nlp = spacy.load('en_core_web_sm')\n",
    "\n",
    "sentence = 'It has also arisen in criminal justice, healthcare, and hiring, compounding existing racial, economic, and gender biases.'\n",
    "doc = nlp(sentence)\n",
    "tokens = [token.text for token in doc]\n",
    "\n",
    "from collections import Counter\n",
    "bag_of_words = Counter(tokens)\n",
    "\n",
    "import pandas as pd\n",
    "most_common = dict(bag_of_words.most_common())\n",
    "counts = pd.Series(most_common)\n",
    "print(counts.shape)\n",
    "counts.head()\n"
   ]
  },
  {
   "cell_type": "markdown",
   "metadata": {},
   "source": [
    "Normalized term frequency of a word is calculated as"
   ]
  },
  {
   "cell_type": "code",
   "execution_count": 14,
   "metadata": {},
   "outputs": [
    {
     "data": {
      "text/plain": [
       "0.043478260869565216"
      ]
     },
     "execution_count": 14,
     "metadata": {},
     "output_type": "execute_result"
    }
   ],
   "source": [
    "counts['justice'] / counts.sum()\n",
    "# 4% ish"
   ]
  },
  {
   "cell_type": "markdown",
   "metadata": {},
   "source": [
    "## Term frequencies and their relevance"
   ]
  },
  {
   "cell_type": "code",
   "execution_count": 15,
   "metadata": {},
   "outputs": [],
   "source": [
    "import requests\n",
    "\n",
    "url = ('https://gitlab.com/tangibleai/nlpia2/-/raw/main/src/nlpia2/ch03/bias_intro.txt')\n",
    "response = requests.get(url)\n",
    "\n",
    "bias_intro = response.text\n",
    "\n",
    "tokens = [token.text for token in nlp(bias_intro)]\n",
    "counts = Counter(tokens)"
   ]
  },
  {
   "cell_type": "code",
   "execution_count": 16,
   "metadata": {},
   "outputs": [
    {
     "name": "stdout",
     "output_type": "stream",
     "text": [
      "most common:  [(',', 35), ('of', 16), ('.', 16), ('to', 15), ('and', 14)]\n",
      "least common:  [('programs', 1), ('inputs', 1), ('between', 1), ('same', 1), ('service', 1)]\n"
     ]
    }
   ],
   "source": [
    "print('most common: ', counts.most_common()[0:5])\n",
    "print('least common: ', counts.most_common()[-5:])"
   ]
  },
  {
   "cell_type": "markdown",
   "metadata": {},
   "source": [
    "## Building bag-of-words"
   ]
  },
  {
   "cell_type": "code",
   "execution_count": 17,
   "metadata": {},
   "outputs": [
    {
     "data": {
      "text/html": [
       "<div>\n",
       "<style scoped>\n",
       "    .dataframe tbody tr th:only-of-type {\n",
       "        vertical-align: middle;\n",
       "    }\n",
       "\n",
       "    .dataframe tbody tr th {\n",
       "        vertical-align: top;\n",
       "    }\n",
       "\n",
       "    .dataframe thead th {\n",
       "        text-align: right;\n",
       "    }\n",
       "</style>\n",
       "<table border=\"1\" class=\"dataframe\">\n",
       "  <thead>\n",
       "    <tr style=\"text-align: right;\">\n",
       "      <th></th>\n",
       "      <th>Algorithmic</th>\n",
       "      <th>bias</th>\n",
       "      <th>describes</th>\n",
       "      <th>systematic</th>\n",
       "      <th>and</th>\n",
       "      <th>repeatable</th>\n",
       "      <th>errors</th>\n",
       "      <th>in</th>\n",
       "      <th>a</th>\n",
       "      <th>computer</th>\n",
       "      <th>...</th>\n",
       "      <th>there</th>\n",
       "      <th>no</th>\n",
       "      <th>examine</th>\n",
       "      <th>network</th>\n",
       "      <th>interrelated</th>\n",
       "      <th>programs</th>\n",
       "      <th>inputs</th>\n",
       "      <th>between</th>\n",
       "      <th>same</th>\n",
       "      <th>service</th>\n",
       "    </tr>\n",
       "  </thead>\n",
       "  <tbody>\n",
       "    <tr>\n",
       "      <th>0</th>\n",
       "      <td>1</td>\n",
       "      <td>1</td>\n",
       "      <td>1</td>\n",
       "      <td>1</td>\n",
       "      <td>1</td>\n",
       "      <td>1</td>\n",
       "      <td>1</td>\n",
       "      <td>1</td>\n",
       "      <td>1</td>\n",
       "      <td>1</td>\n",
       "      <td>...</td>\n",
       "      <td>0</td>\n",
       "      <td>0</td>\n",
       "      <td>0</td>\n",
       "      <td>0</td>\n",
       "      <td>0</td>\n",
       "      <td>0</td>\n",
       "      <td>0</td>\n",
       "      <td>0</td>\n",
       "      <td>0</td>\n",
       "      <td>0</td>\n",
       "    </tr>\n",
       "    <tr>\n",
       "      <th>1</th>\n",
       "      <td>0</td>\n",
       "      <td>0</td>\n",
       "      <td>0</td>\n",
       "      <td>0</td>\n",
       "      <td>0</td>\n",
       "      <td>0</td>\n",
       "      <td>0</td>\n",
       "      <td>0</td>\n",
       "      <td>0</td>\n",
       "      <td>0</td>\n",
       "      <td>...</td>\n",
       "      <td>0</td>\n",
       "      <td>0</td>\n",
       "      <td>0</td>\n",
       "      <td>0</td>\n",
       "      <td>0</td>\n",
       "      <td>0</td>\n",
       "      <td>0</td>\n",
       "      <td>0</td>\n",
       "      <td>0</td>\n",
       "      <td>0</td>\n",
       "    </tr>\n",
       "    <tr>\n",
       "      <th>2</th>\n",
       "      <td>1</td>\n",
       "      <td>1</td>\n",
       "      <td>0</td>\n",
       "      <td>0</td>\n",
       "      <td>3</td>\n",
       "      <td>0</td>\n",
       "      <td>0</td>\n",
       "      <td>0</td>\n",
       "      <td>0</td>\n",
       "      <td>0</td>\n",
       "      <td>...</td>\n",
       "      <td>0</td>\n",
       "      <td>0</td>\n",
       "      <td>0</td>\n",
       "      <td>0</td>\n",
       "      <td>0</td>\n",
       "      <td>0</td>\n",
       "      <td>0</td>\n",
       "      <td>0</td>\n",
       "      <td>0</td>\n",
       "      <td>0</td>\n",
       "    </tr>\n",
       "    <tr>\n",
       "      <th>3</th>\n",
       "      <td>0</td>\n",
       "      <td>1</td>\n",
       "      <td>0</td>\n",
       "      <td>1</td>\n",
       "      <td>1</td>\n",
       "      <td>0</td>\n",
       "      <td>0</td>\n",
       "      <td>0</td>\n",
       "      <td>0</td>\n",
       "      <td>0</td>\n",
       "      <td>...</td>\n",
       "      <td>0</td>\n",
       "      <td>0</td>\n",
       "      <td>0</td>\n",
       "      <td>0</td>\n",
       "      <td>0</td>\n",
       "      <td>0</td>\n",
       "      <td>0</td>\n",
       "      <td>0</td>\n",
       "      <td>0</td>\n",
       "      <td>0</td>\n",
       "    </tr>\n",
       "    <tr>\n",
       "      <th>4</th>\n",
       "      <td>0</td>\n",
       "      <td>1</td>\n",
       "      <td>0</td>\n",
       "      <td>0</td>\n",
       "      <td>0</td>\n",
       "      <td>0</td>\n",
       "      <td>0</td>\n",
       "      <td>1</td>\n",
       "      <td>0</td>\n",
       "      <td>0</td>\n",
       "      <td>...</td>\n",
       "      <td>0</td>\n",
       "      <td>0</td>\n",
       "      <td>0</td>\n",
       "      <td>0</td>\n",
       "      <td>0</td>\n",
       "      <td>0</td>\n",
       "      <td>0</td>\n",
       "      <td>0</td>\n",
       "      <td>0</td>\n",
       "      <td>0</td>\n",
       "    </tr>\n",
       "  </tbody>\n",
       "</table>\n",
       "<p>5 rows × 255 columns</p>\n",
       "</div>"
      ],
      "text/plain": [
       "   Algorithmic  bias  describes  systematic  and  repeatable  errors  in  a  \\\n",
       "0            1     1          1           1    1           1       1   1  1   \n",
       "1            0     0          0           0    0           0       0   0  0   \n",
       "2            1     1          0           0    3           0       0   0  0   \n",
       "3            0     1          0           1    1           0       0   0  0   \n",
       "4            0     1          0           0    0           0       0   1  0   \n",
       "\n",
       "   computer  ...  there  no  examine  network  interrelated  programs  inputs  \\\n",
       "0         1  ...      0   0        0        0             0         0       0   \n",
       "1         0  ...      0   0        0        0             0         0       0   \n",
       "2         0  ...      0   0        0        0             0         0       0   \n",
       "3         0  ...      0   0        0        0             0         0       0   \n",
       "4         0  ...      0   0        0        0             0         0       0   \n",
       "\n",
       "   between  same  service  \n",
       "0        0     0        0  \n",
       "1        0     0        0  \n",
       "2        0     0        0  \n",
       "3        0     0        0  \n",
       "4        0     0        0  \n",
       "\n",
       "[5 rows x 255 columns]"
      ]
     },
     "execution_count": 17,
     "metadata": {},
     "output_type": "execute_result"
    }
   ],
   "source": [
    "docs = [nlp(s) for s in bias_intro.split('\\n') if s.strip()]\n",
    "bows = []\n",
    "\n",
    "for doc in docs:\n",
    "    tokens = [token.text for token in doc]\n",
    "    bow = Counter(tokens)\n",
    "    bows.append(bow)\n",
    "    \n",
    "df = pd.DataFrame(bows).fillna(0).astype(int)\n",
    "df.head()"
   ]
  },
  {
   "cell_type": "markdown",
   "metadata": {},
   "source": [
    "# Building vocabulary"
   ]
  },
  {
   "cell_type": "code",
   "execution_count": 21,
   "metadata": {},
   "outputs": [
    {
     "name": "stdout",
     "output_type": "stream",
     "text": [
      "length of doc_tokens: 16\n",
      "tokens count:  482\n",
      "vocab size: 246\n",
      "on average, each token is used at least 2 times\n"
     ]
    }
   ],
   "source": [
    "doc_tokens  = []\n",
    "for doc in docs:\n",
    "    doc_tokens.append([ tok.text.lower() for tok in nlp(doc.text)])\n",
    "print('length of doc_tokens:', len(doc_tokens))\n",
    "\n",
    "all_doc_tokens = []\n",
    "for tokens in doc_tokens:\n",
    "    all_doc_tokens.extend(tokens)\n",
    "print('tokens count: ', len(all_doc_tokens))\n",
    "\n",
    "vocab = set(all_doc_tokens)\n",
    "vocab = sorted(vocab)\n",
    "print('vocab size:', len(vocab))\n",
    "\n",
    "print('on average, each token is used at least', round(len(all_doc_tokens) / len(vocab)), 'times')"
   ]
  },
  {
   "cell_type": "markdown",
   "metadata": {},
   "source": [
    "# Vectorizing documents using `CounterVectorizer`"
   ]
  },
  {
   "cell_type": "code",
   "execution_count": 22,
   "metadata": {},
   "outputs": [
    {
     "name": "stdout",
     "output_type": "stream",
     "text": [
      "(16, 240)\n"
     ]
    },
    {
     "data": {
      "text/plain": [
       "array([[0, 0, 0, ..., 0, 0, 0],\n",
       "       [0, 0, 0, ..., 0, 0, 0],\n",
       "       [0, 0, 0, ..., 0, 0, 0],\n",
       "       ...,\n",
       "       [0, 0, 0, ..., 0, 0, 0],\n",
       "       [0, 0, 0, ..., 0, 0, 0],\n",
       "       [0, 0, 0, ..., 1, 0, 0]], dtype=int64)"
      ]
     },
     "execution_count": 22,
     "metadata": {},
     "output_type": "execute_result"
    }
   ],
   "source": [
    "from sklearn.feature_extraction.text import CountVectorizer\n",
    "corpus = [doc.text for doc in docs]\n",
    "vectorizer = CountVectorizer()\n",
    "count_vectors = vectorizer.fit_transform(corpus)\n",
    "\n",
    "print(count_vectors.shape)\n",
    "count_vectors.toarray()"
   ]
  }
 ],
 "metadata": {
  "kernelspec": {
   "display_name": "nlpia",
   "language": "python",
   "name": "python3"
  },
  "language_info": {
   "codemirror_mode": {
    "name": "ipython",
    "version": 3
   },
   "file_extension": ".py",
   "mimetype": "text/x-python",
   "name": "python",
   "nbconvert_exporter": "python",
   "pygments_lexer": "ipython3",
   "version": "3.9.19"
  }
 },
 "nbformat": 4,
 "nbformat_minor": 2
}
