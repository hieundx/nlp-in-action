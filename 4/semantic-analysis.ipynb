{
 "cells": [
  {
   "cell_type": "markdown",
   "metadata": {},
   "source": [
    "## Thought experiment"
   ]
  },
  {
   "cell_type": "markdown",
   "metadata": {},
   "source": [
    "First we create random term frequencies for a corpus that consists of only 6 terms."
   ]
  },
  {
   "cell_type": "code",
   "execution_count": 1,
   "metadata": {},
   "outputs": [
    {
     "data": {
      "text/plain": [
       "{'cat': 0.15446427482410852,\n",
       " 'dog': 0.5835344845200967,\n",
       " 'apple': 0.8357910167758866,\n",
       " 'lion': 0.4830873915057595,\n",
       " 'NYC': 0.4479194273957965,\n",
       " 'love': 0.9065263218524586}"
      ]
     },
     "execution_count": 1,
     "metadata": {},
     "output_type": "execute_result"
    }
   ],
   "source": [
    "import numpy as np\n",
    "\n",
    "topic = {}\n",
    "\n",
    "tfidf = dict(list(zip('cat dog apple lion NYC love'.split(), np.random.rand(6))))\n",
    "tfidf"
   ]
  },
  {
   "cell_type": "markdown",
   "metadata": {},
   "source": [
    "We want to teach the machine how to recognize topics based on term frequencies of the corpus. An example of how a topic vector would look like is shown below:"
   ]
  },
  {
   "cell_type": "code",
   "execution_count": 5,
   "metadata": {},
   "outputs": [
    {
     "data": {
      "text/plain": [
       "{'petness': 0.49228877765291257,\n",
       " 'animalness': 0.6510741451937337,\n",
       " 'cityness': 0.5884327368409071}"
      ]
     },
     "execution_count": 5,
     "metadata": {},
     "output_type": "execute_result"
    }
   ],
   "source": [
    "topic['petness'] = (.3 * tfidf['cat'] +\n",
    "                    .3 * tfidf['dog'] +\n",
    "                    0 * tfidf['apple'] +\n",
    "                    0 * tfidf['lion'] +\n",
    "                    .2 * tfidf['NYC'] +\n",
    "                    .2 * tfidf['love'])  # #2\n",
    "\n",
    "topic['animalness'] = (.1 * tfidf['cat'] +\n",
    "                       .3 * tfidf['dog'] +\n",
    "                       .1 * tfidf['apple'] +\n",
    "                       .5 * tfidf['lion'] +\n",
    "                       .1 * tfidf['NYC'] +\n",
    "                       .1 * tfidf['love'])\n",
    "\n",
    "topic['cityness'] = (.0 * tfidf['cat'] +\n",
    "                     .1 * tfidf['dog'] +\n",
    "                     .2 * tfidf['apple'] +\n",
    "                     .1 * tfidf['lion'] +\n",
    "                     .5 * tfidf['NYC'] +\n",
    "                     .1 * tfidf['love'])\n",
    "topic"
   ]
  },
  {
   "cell_type": "markdown",
   "metadata": {},
   "source": [
    "The relationships between words and topics can be flipped. If we treat \"petness\", \"animalness\", and \"cityness\" as 3 dimensions, we can create a 3 x 6 matrix."
   ]
  },
  {
   "cell_type": "code",
   "execution_count": 6,
   "metadata": {},
   "outputs": [],
   "source": [
    "word_vector = {}\n",
    "\n",
    "word_vector['cat'] = .3*topic['petness'] + \\\n",
    "                     .1*topic['animalness'] + \\\n",
    "                     0*topic['cityness']\n",
    "\n",
    "word_vector['dog'] = .3*topic['petness'] + \\\n",
    "                     .1*topic['animalness'] + \\\n",
    "                     .1*topic['cityness']\n",
    "\n",
    "word_vector['apple'] = 0*topic['petness'] + \\\n",
    "                       .1*topic['animalness'] + \\\n",
    "                       .2*topic['cityness']\n",
    "\n",
    "word_vector['lion'] = 0*topic['petness'] + \\\n",
    "                      .5*topic['animalness'] + \\\n",
    "                      .1*topic['cityness']\n",
    "\n",
    "word_vector['NYC'] = .2*topic['petness'] + \\\n",
    "                     .1*topic['animalness'] + \\\n",
    "                     .5*topic['cityness']\n",
    "\n",
    "word_vector['love'] = .2*topic['petness'] + \\\n",
    "                      .1*topic['animalness'] + \\\n",
    "                      .1*topic['cityness']"
   ]
  },
  {
   "cell_type": "code",
   "execution_count": 10,
   "metadata": {},
   "outputs": [
    {
     "data": {
      "text/plain": [
       "{'cat': 0.21279404781524713,\n",
       " 'dog': 0.27163732149933784,\n",
       " 'apple': 0.1827939618875548,\n",
       " 'lion': 0.3843803462809576,\n",
       " 'NYC': 0.4577815384704095,\n",
       " 'love': 0.2224084437340466}"
      ]
     },
     "execution_count": 10,
     "metadata": {},
     "output_type": "execute_result"
    }
   ],
   "source": [
    "word_vector"
   ]
  },
  {
   "cell_type": "markdown",
   "metadata": {},
   "source": [
    "## Toxic comments"
   ]
  },
  {
   "cell_type": "code",
   "execution_count": 11,
   "metadata": {},
   "outputs": [
    {
     "data": {
      "text/html": [
       "<div>\n",
       "<style scoped>\n",
       "    .dataframe tbody tr th:only-of-type {\n",
       "        vertical-align: middle;\n",
       "    }\n",
       "\n",
       "    .dataframe tbody tr th {\n",
       "        vertical-align: top;\n",
       "    }\n",
       "\n",
       "    .dataframe thead th {\n",
       "        text-align: right;\n",
       "    }\n",
       "</style>\n",
       "<table border=\"1\" class=\"dataframe\">\n",
       "  <thead>\n",
       "    <tr style=\"text-align: right;\">\n",
       "      <th></th>\n",
       "      <th>text</th>\n",
       "      <th>toxic</th>\n",
       "    </tr>\n",
       "  </thead>\n",
       "  <tbody>\n",
       "    <tr>\n",
       "      <th>0</th>\n",
       "      <td>you have yet to identify where my edits violat...</td>\n",
       "      <td>0</td>\n",
       "    </tr>\n",
       "    <tr>\n",
       "      <th>1</th>\n",
       "      <td>\"\\n as i have already said,wp:rfc or wp:ani. (...</td>\n",
       "      <td>0</td>\n",
       "    </tr>\n",
       "    <tr>\n",
       "      <th>2</th>\n",
       "      <td>your vote on wikiquote simple english when it ...</td>\n",
       "      <td>0</td>\n",
       "    </tr>\n",
       "    <tr>\n",
       "      <th>3</th>\n",
       "      <td>your stalking of my edits i've opened a thread...</td>\n",
       "      <td>0</td>\n",
       "    </tr>\n",
       "    <tr>\n",
       "      <th>4</th>\n",
       "      <td>straight from the smear site itself. the perso...</td>\n",
       "      <td>1</td>\n",
       "    </tr>\n",
       "  </tbody>\n",
       "</table>\n",
       "</div>"
      ],
      "text/plain": [
       "                                                text  toxic\n",
       "0  you have yet to identify where my edits violat...      0\n",
       "1  \"\\n as i have already said,wp:rfc or wp:ani. (...      0\n",
       "2  your vote on wikiquote simple english when it ...      0\n",
       "3  your stalking of my edits i've opened a thread...      0\n",
       "4  straight from the smear site itself. the perso...      1"
      ]
     },
     "execution_count": 11,
     "metadata": {},
     "output_type": "execute_result"
    }
   ],
   "source": [
    "import pandas as pd\n",
    "\n",
    "url = 'https://gitlab.com/tangibleai/nlpia/-/raw/master/src/nlpia/data/toxic_comment_small.csv'\n",
    "\n",
    "comments = pd.read_csv(url)\n",
    "comments.head()"
   ]
  },
  {
   "cell_type": "code",
   "execution_count": 19,
   "metadata": {},
   "outputs": [
    {
     "name": "stdout",
     "output_type": "stream",
     "text": [
      "Number of comments: 5000\n",
      "Number of toxic comments: 650\n"
     ]
    },
    {
     "data": {
      "text/html": [
       "<div>\n",
       "<style scoped>\n",
       "    .dataframe tbody tr th:only-of-type {\n",
       "        vertical-align: middle;\n",
       "    }\n",
       "\n",
       "    .dataframe tbody tr th {\n",
       "        vertical-align: top;\n",
       "    }\n",
       "\n",
       "    .dataframe thead th {\n",
       "        text-align: right;\n",
       "    }\n",
       "</style>\n",
       "<table border=\"1\" class=\"dataframe\">\n",
       "  <thead>\n",
       "    <tr style=\"text-align: right;\">\n",
       "      <th></th>\n",
       "      <th>text</th>\n",
       "      <th>toxic</th>\n",
       "    </tr>\n",
       "  </thead>\n",
       "  <tbody>\n",
       "    <tr>\n",
       "      <th>comments0</th>\n",
       "      <td>you have yet to identify where my edits violat...</td>\n",
       "      <td>0</td>\n",
       "    </tr>\n",
       "    <tr>\n",
       "      <th>comments1</th>\n",
       "      <td>\"\\n as i have already said,wp:rfc or wp:ani. (...</td>\n",
       "      <td>0</td>\n",
       "    </tr>\n",
       "    <tr>\n",
       "      <th>comments2</th>\n",
       "      <td>your vote on wikiquote simple english when it ...</td>\n",
       "      <td>0</td>\n",
       "    </tr>\n",
       "    <tr>\n",
       "      <th>comments3</th>\n",
       "      <td>your stalking of my edits i've opened a thread...</td>\n",
       "      <td>0</td>\n",
       "    </tr>\n",
       "    <tr>\n",
       "      <th>comments4!</th>\n",
       "      <td>straight from the smear site itself. the perso...</td>\n",
       "      <td>1</td>\n",
       "    </tr>\n",
       "  </tbody>\n",
       "</table>\n",
       "</div>"
      ],
      "text/plain": [
       "                                                         text  toxic\n",
       "comments0   you have yet to identify where my edits violat...      0\n",
       "comments1   \"\\n as i have already said,wp:rfc or wp:ani. (...      0\n",
       "comments2   your vote on wikiquote simple english when it ...      0\n",
       "comments3   your stalking of my edits i've opened a thread...      0\n",
       "comments4!  straight from the smear site itself. the perso...      1"
      ]
     },
     "execution_count": 19,
     "metadata": {},
     "output_type": "execute_result"
    }
   ],
   "source": [
    "index = ['comments{}{}'.format(i, '!'*j) for i, j in zip(range(len(comments)), comments.toxic)]\n",
    "\n",
    "comments = pd.DataFrame(comments.values, columns=comments.columns, index=index)\n",
    "mask = comments.toxic.astype(bool).values\n",
    "\n",
    "comments['toxic'] = comments.toxic.astype(int)\n",
    "\n",
    "print('Number of comments:', len(comments))\n",
    "print('Number of toxic comments:', comments.toxic.sum())\n",
    "comments.head()"
   ]
  },
  {
   "cell_type": "markdown",
   "metadata": {},
   "source": [
    "Try solving with TF-IDF."
   ]
  },
  {
   "cell_type": "code",
   "execution_count": 22,
   "metadata": {},
   "outputs": [
    {
     "name": "stderr",
     "output_type": "stream",
     "text": [
      "c:\\Users\\lived\\.conda\\envs\\nlpia\\lib\\site-packages\\sklearn\\feature_extraction\\text.py:521: UserWarning: The parameter 'token_pattern' will not be used since 'tokenizer' is not None'\n",
      "  warnings.warn(\n"
     ]
    },
    {
     "data": {
      "text/plain": [
       "(5000, 19160)"
      ]
     },
     "execution_count": 22,
     "metadata": {},
     "output_type": "execute_result"
    }
   ],
   "source": [
    "from sklearn.feature_extraction.text import TfidfVectorizer\n",
    "import spacy\n",
    "\n",
    "nlp = spacy.load('en_core_web_sm')\n",
    "\n",
    "def spacy_tokenize(sentence):\n",
    "    return [word.text for word in nlp(sentence.lower())]\n",
    "\n",
    "tfidf_model = TfidfVectorizer(tokenizer=spacy_tokenize)\n",
    "tfidf_docs = tfidf_model.fit_transform(raw_documents=comments.text).toarray()\n",
    "tfidf_docs.shape"
   ]
  },
  {
   "cell_type": "markdown",
   "metadata": {},
   "source": [
    "The spaCy tokenizer gave you 19,169 words in your vocabulary. You have almost 4 times as many words as you have messages. And you have almost 30 times as many words as toxic comments. So your model will not have a lot of information about the words that will indicate whether a comment is toxic or not."
   ]
  },
  {
   "cell_type": "markdown",
   "metadata": {},
   "source": [
    "## Latent Discriminant Analysis (LDA)"
   ]
  },
  {
   "cell_type": "code",
   "execution_count": 25,
   "metadata": {},
   "outputs": [
    {
     "name": "stdout",
     "output_type": "stream",
     "text": [
      "toxic_centroid: [0.01406157 0.00363202 0.         ... 0.         0.         0.        ]\n",
      "nontoxic_centroid: [1.89710535e-02 4.58793799e-03 2.57451586e-04 ... 2.47852092e-05\n",
      " 1.78452160e-05 6.71831573e-05]\n"
     ]
    }
   ],
   "source": [
    "mask = comments.toxic.astype(bool).values\n",
    "toxic_centroid = tfidf_docs[mask].mean(axis=0)\n",
    "nontoxic_centroid = tfidf_docs[~mask].mean(axis=0)\n",
    "\n",
    "print('toxic_centroid:', toxic_centroid)\n",
    "print('nontoxic_centroid:', nontoxic_centroid)"
   ]
  },
  {
   "cell_type": "code",
   "execution_count": 26,
   "metadata": {},
   "outputs": [
    {
     "data": {
      "text/plain": [
       "array([-0.008, -0.022, -0.014, ..., -0.025, -0.001, -0.022])"
      ]
     },
     "execution_count": 26,
     "metadata": {},
     "output_type": "execute_result"
    }
   ],
   "source": [
    "centroid_axis = toxic_centroid - nontoxic_centroid\n",
    "toxicity_score = tfidf_docs.dot(centroid_axis)\n",
    "toxicity_score.round(3)"
   ]
  },
  {
   "cell_type": "code",
   "execution_count": 28,
   "metadata": {},
   "outputs": [
    {
     "data": {
      "text/html": [
       "<div>\n",
       "<style scoped>\n",
       "    .dataframe tbody tr th:only-of-type {\n",
       "        vertical-align: middle;\n",
       "    }\n",
       "\n",
       "    .dataframe tbody tr th {\n",
       "        vertical-align: top;\n",
       "    }\n",
       "\n",
       "    .dataframe thead th {\n",
       "        text-align: right;\n",
       "    }\n",
       "</style>\n",
       "<table border=\"1\" class=\"dataframe\">\n",
       "  <thead>\n",
       "    <tr style=\"text-align: right;\">\n",
       "      <th></th>\n",
       "      <th>toxic</th>\n",
       "      <th>manual_predict</th>\n",
       "      <th>manual_score</th>\n",
       "    </tr>\n",
       "  </thead>\n",
       "  <tbody>\n",
       "    <tr>\n",
       "      <th>comments0</th>\n",
       "      <td>0</td>\n",
       "      <td>0</td>\n",
       "      <td>0.41</td>\n",
       "    </tr>\n",
       "    <tr>\n",
       "      <th>comments1</th>\n",
       "      <td>0</td>\n",
       "      <td>0</td>\n",
       "      <td>0.27</td>\n",
       "    </tr>\n",
       "    <tr>\n",
       "      <th>comments2</th>\n",
       "      <td>0</td>\n",
       "      <td>0</td>\n",
       "      <td>0.35</td>\n",
       "    </tr>\n",
       "    <tr>\n",
       "      <th>comments3</th>\n",
       "      <td>0</td>\n",
       "      <td>0</td>\n",
       "      <td>0.47</td>\n",
       "    </tr>\n",
       "    <tr>\n",
       "      <th>comments4!</th>\n",
       "      <td>1</td>\n",
       "      <td>0</td>\n",
       "      <td>0.48</td>\n",
       "    </tr>\n",
       "    <tr>\n",
       "      <th>...</th>\n",
       "      <td>...</td>\n",
       "      <td>...</td>\n",
       "      <td>...</td>\n",
       "    </tr>\n",
       "    <tr>\n",
       "      <th>comments4995</th>\n",
       "      <td>0</td>\n",
       "      <td>0</td>\n",
       "      <td>0.22</td>\n",
       "    </tr>\n",
       "    <tr>\n",
       "      <th>comments4996</th>\n",
       "      <td>0</td>\n",
       "      <td>0</td>\n",
       "      <td>0.36</td>\n",
       "    </tr>\n",
       "    <tr>\n",
       "      <th>comments4997!</th>\n",
       "      <td>1</td>\n",
       "      <td>0</td>\n",
       "      <td>0.25</td>\n",
       "    </tr>\n",
       "    <tr>\n",
       "      <th>comments4998!</th>\n",
       "      <td>1</td>\n",
       "      <td>0</td>\n",
       "      <td>0.48</td>\n",
       "    </tr>\n",
       "    <tr>\n",
       "      <th>comments4999</th>\n",
       "      <td>0</td>\n",
       "      <td>0</td>\n",
       "      <td>0.27</td>\n",
       "    </tr>\n",
       "  </tbody>\n",
       "</table>\n",
       "<p>5000 rows × 3 columns</p>\n",
       "</div>"
      ],
      "text/plain": [
       "               toxic  manual_predict  manual_score\n",
       "comments0          0               0          0.41\n",
       "comments1          0               0          0.27\n",
       "comments2          0               0          0.35\n",
       "comments3          0               0          0.47\n",
       "comments4!         1               0          0.48\n",
       "...              ...             ...           ...\n",
       "comments4995       0               0          0.22\n",
       "comments4996       0               0          0.36\n",
       "comments4997!      1               0          0.25\n",
       "comments4998!      1               0          0.48\n",
       "comments4999       0               0          0.27\n",
       "\n",
       "[5000 rows x 3 columns]"
      ]
     },
     "execution_count": 28,
     "metadata": {},
     "output_type": "execute_result"
    }
   ],
   "source": [
    "from sklearn.preprocessing import MinMaxScaler\n",
    "\n",
    "comments['manual_score'] = MinMaxScaler().fit_transform(toxicity_score.reshape(-1, 1))\n",
    "comments['manual_predict'] = (comments.manual_score > .5).astype(int)\n",
    "comments['toxic manual_predict manual_score'.split()].round(2)"
   ]
  },
  {
   "cell_type": "code",
   "execution_count": 29,
   "metadata": {},
   "outputs": [
    {
     "data": {
      "text/plain": [
       "0.8944"
      ]
     },
     "execution_count": 29,
     "metadata": {},
     "output_type": "execute_result"
    }
   ],
   "source": [
    "correct_predictions = (1 - (comments.toxic - comments.manual_predict).abs()).sum() / len(comments)\n",
    "correct_predictions"
   ]
  },
  {
   "cell_type": "markdown",
   "metadata": {},
   "source": [
    "89.5% of predictions are correc tusing an \"approximate\" version of LDA. Let's see the result with a \"full\" LDA."
   ]
  },
  {
   "cell_type": "code",
   "execution_count": 37,
   "metadata": {},
   "outputs": [],
   "source": [
    "from sklearn import discriminant_analysis\n",
    "lda_tfidf = discriminant_analysis.LinearDiscriminantAnalysis()\n",
    "\n",
    "lda_tfidf = lda_tfidf.fit(tfidf_docs, comments.toxic)"
   ]
  },
  {
   "cell_type": "code",
   "execution_count": 34,
   "metadata": {},
   "outputs": [
    {
     "data": {
      "text/plain": [
       "comments0        0\n",
       "comments1        0\n",
       "comments2        0\n",
       "comments3        0\n",
       "comments4!       1\n",
       "                ..\n",
       "comments4995     0\n",
       "comments4996     0\n",
       "comments4997!    1\n",
       "comments4998!    1\n",
       "comments4999     0\n",
       "Name: lda_predict, Length: 5000, dtype: int32"
      ]
     },
     "execution_count": 34,
     "metadata": {},
     "output_type": "execute_result"
    }
   ],
   "source": [
    "comments['lda_predict'] = lda_tfidf.predict(tfidf_docs)\n",
    "comments['lda_predict']"
   ]
  },
  {
   "cell_type": "code",
   "execution_count": 36,
   "metadata": {},
   "outputs": [
    {
     "data": {
      "text/plain": [
       "0.9992"
      ]
     },
     "execution_count": 36,
     "metadata": {},
     "output_type": "execute_result"
    }
   ],
   "source": [
    "lda_tfidf.score(tfidf_docs, comments.toxic)"
   ]
  },
  {
   "cell_type": "markdown",
   "metadata": {},
   "source": [
    "We have 99.92% correct, which is better but this is because we didn't split the docs into train set and test set, which could have resulted in overfitting."
   ]
  },
  {
   "cell_type": "code",
   "execution_count": 38,
   "metadata": {},
   "outputs": [
    {
     "data": {
      "text/plain": [
       "(0.993, 0.799)"
      ]
     },
     "execution_count": 38,
     "metadata": {},
     "output_type": "execute_result"
    }
   ],
   "source": [
    "from sklearn.model_selection import train_test_split\n",
    "\n",
    "X_train, X_test, y_train, y_test = train_test_split(tfidf_docs, comments.toxic, test_size=0.2)\n",
    "lda_tfidf = discriminant_analysis.LinearDiscriminantAnalysis(n_components=1)\n",
    "lda = lda_tfidf.fit(X_train, y_train)\n",
    "round(float(lda.score(X_train, y_train)), 3), round(float(lda.score(X_test, y_test)), 3)"
   ]
  },
  {
   "cell_type": "markdown",
   "metadata": {},
   "source": [
    "The test set has significantly lower accuracy than the train set. Topic modeling can help solve this problem. It allows you to generalize the models from a small training set, so that it still works well on messages using different combinations of words."
   ]
  },
  {
   "cell_type": "markdown",
   "metadata": {},
   "source": [
    "### Confusion matrix\n",
    "\n",
    "The confusion matrix will tell you the number of times the model made a mistake. There are two kinds of mistakes, false positive mistakes and false negative mistakes."
   ]
  },
  {
   "cell_type": "code",
   "execution_count": 47,
   "metadata": {},
   "outputs": [],
   "source": [
    "from sklearn.metrics import confusion_matrix\n",
    "cm = confusion_matrix(y_test, lda.predict(X_test))"
   ]
  },
  {
   "cell_type": "code",
   "execution_count": 50,
   "metadata": {},
   "outputs": [
    {
     "data": {
      "text/plain": [
       "<sklearn.metrics._plot.confusion_matrix.ConfusionMatrixDisplay at 0x11d3634da00>"
      ]
     },
     "execution_count": 50,
     "metadata": {},
     "output_type": "execute_result"
    },
    {
     "data": {
      "image/png": "[encoded data removed]",
      "text/plain": [
       "<Figure size 640x480 with 2 Axes>"
      ]
     },
     "metadata": {},
     "output_type": "display_data"
    }
   ],
   "source": [
    "import matplotlib.pyplot as plt\n",
    "from sklearn.metrics import ConfusionMatrixDisplay\n",
    "\n",
    "disp = ConfusionMatrixDisplay(cm, display_labels=['nontoxic', 'toxic'])\n",
    "disp.plot()"
   ]
  }
 ],
 "metadata": {
  "kernelspec": {
   "display_name": "nlpia",
   "language": "python",
   "name": "python3"
  },
  "language_info": {
   "codemirror_mode": {
    "name": "ipython",
    "version": 3
   },
   "file_extension": ".py",
   "mimetype": "text/x-python",
   "name": "python",
   "nbconvert_exporter": "python",
   "pygments_lexer": "ipython3",
   "version": "3.9.19"
  }
 },
 "nbformat": 4,
 "nbformat_minor": 2
}
